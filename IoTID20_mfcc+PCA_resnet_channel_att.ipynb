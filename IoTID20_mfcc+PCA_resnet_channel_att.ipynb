{
 "cells": [
  {
   "attachments": {},
   "cell_type": "markdown",
   "metadata": {},
   "source": [
    "# MFCC PCA 실험 "
   ]
  },
  {
   "cell_type": "code",
   "execution_count": 1,
   "metadata": {},
   "outputs": [],
   "source": [
    "import pandas as pd \n",
    "\n",
    "train_merge_pca = pd.read_csv('iotid20_train_pca+mfcc.csv')\n",
    "test_merge_pca =  pd.read_csv('iotid20_test_pca+mfcc.csv')"
   ]
  },
  {
   "cell_type": "code",
   "execution_count": 2,
   "metadata": {},
   "outputs": [],
   "source": [
    "import torch\n",
    "from torch.utils.data import Dataset, DataLoader\n",
    "import pandas as pd\n",
    "\n",
    "class CustomDataset(Dataset):\n",
    "    def __init__(self, dataframe):\n",
    "        self.data = dataframe.iloc[:, :-1].values  # 마지막 열을 제외한 데이터\n",
    "        self.labels = dataframe.iloc[:, -1].values  # 마지막 열을 라벨 데이터로 사용\n",
    "\n",
    "    def __len__(self):\n",
    "        return len(self.data)\n",
    "\n",
    "    def __getitem__(self, idx):\n",
    "        sample = {'data': torch.tensor(self.data[idx], dtype=torch.float32),\n",
    "                  'label': torch.tensor(self.labels[idx], dtype=torch.long)}\n",
    "        return sample"
   ]
  },
  {
   "cell_type": "code",
   "execution_count": 3,
   "metadata": {},
   "outputs": [],
   "source": [
    "train_dataset_pca = CustomDataset(train_merge_pca)\n",
    "train_loader_pca = DataLoader(train_dataset_pca, batch_size=64, shuffle=True, drop_last=True)\n",
    "\n",
    "test_dataset_pca = CustomDataset(test_merge_pca)\n",
    "test_loader_pca = DataLoader(test_dataset_pca, batch_size=64, shuffle=False, drop_last=True)"
   ]
  },
  {
   "cell_type": "code",
   "execution_count": 4,
   "metadata": {},
   "outputs": [
    {
     "name": "stdout",
     "output_type": "stream",
     "text": [
      "다음 기기로 학습합니다: cuda\n"
     ]
    }
   ],
   "source": [
    "import torch\n",
    "import torch.nn as nn\n",
    "import torch.nn.functional as F\n",
    "import torch.optim as optim\n",
    "\n",
    "from Resnet_channel_attention import *\n",
    "\n",
    "USE_CUDA = torch.cuda.is_available() # GPU를 사용가능하면 True, 아니라면 False를 리턴\n",
    "device = torch.device(\"cuda\" if USE_CUDA else \"cpu\") # GPU 사용 가능하면 사용하고 아니면 CPU 사용\n",
    "print(\"다음 기기로 학습합니다:\", device)\n",
    "\n",
    "def create_models(num_classes=9):\n",
    "    model_18 = resnet18(num_classes=9, pretrained=False)\n",
    "    model_34 = resnet34(num_classes=9, pretrained=False)\n",
    "    \n",
    "    return model_18,model_34\n",
    "\n",
    "model_18, model_34 = create_models()"
   ]
  },
  {
   "cell_type": "code",
   "execution_count": 5,
   "metadata": {},
   "outputs": [
    {
     "data": {
      "application/vnd.jupyter.widget-view+json": {
       "model_id": "3c9ceac97410495c80c24b6fe2cb5232",
       "version_major": 2,
       "version_minor": 0
      },
      "text/plain": [
       "training:   0%|          | 0/100 [00:00<?, ?it/s]"
      ]
     },
     "metadata": {},
     "output_type": "display_data"
    },
    {
     "name": "stderr",
     "output_type": "stream",
     "text": [
      "C:\\Users\\addmin\\AppData\\Local\\Temp\\ipykernel_21224\\3543638301.py:15: DeprecationWarning: an integer is required (got type numpy.float64).  Implicit conversion to integers using __int__ is deprecated, and may be removed in a future version of Python.\n",
      "  'label': torch.tensor(self.labels[idx], dtype=torch.long)}\n"
     ]
    },
    {
     "name": "stdout",
     "output_type": "stream",
     "text": [
      "\n",
      "train loss: 0.1677, train acc: 93.0877\n"
     ]
    },
    {
     "name": "stderr",
     "output_type": "stream",
     "text": [
      "C:\\Users\\addmin\\AppData\\Local\\Temp\\ipykernel_21224\\3543638301.py:15: DeprecationWarning: an integer is required (got type numpy.float64).  Implicit conversion to integers using __int__ is deprecated, and may be removed in a future version of Python.\n",
      "  'label': torch.tensor(self.labels[idx], dtype=torch.long)}\n"
     ]
    },
    {
     "name": "stdout",
     "output_type": "stream",
     "text": [
      "\n",
      "train loss: 0.1064, train acc: 98.5131\n"
     ]
    },
    {
     "name": "stderr",
     "output_type": "stream",
     "text": [
      "C:\\Users\\addmin\\AppData\\Local\\Temp\\ipykernel_21224\\3543638301.py:15: DeprecationWarning: an integer is required (got type numpy.float64).  Implicit conversion to integers using __int__ is deprecated, and may be removed in a future version of Python.\n",
      "  'label': torch.tensor(self.labels[idx], dtype=torch.long)}\n"
     ]
    },
    {
     "name": "stdout",
     "output_type": "stream",
     "text": [
      "\n",
      "train loss: 0.0822, train acc: 98.8598\n"
     ]
    },
    {
     "name": "stderr",
     "output_type": "stream",
     "text": [
      "C:\\Users\\addmin\\AppData\\Local\\Temp\\ipykernel_21224\\3543638301.py:15: DeprecationWarning: an integer is required (got type numpy.float64).  Implicit conversion to integers using __int__ is deprecated, and may be removed in a future version of Python.\n",
      "  'label': torch.tensor(self.labels[idx], dtype=torch.long)}\n"
     ]
    },
    {
     "name": "stdout",
     "output_type": "stream",
     "text": [
      "\n",
      "train loss: 0.0680, train acc: 99.1810\n"
     ]
    },
    {
     "name": "stderr",
     "output_type": "stream",
     "text": [
      "C:\\Users\\addmin\\AppData\\Local\\Temp\\ipykernel_21224\\3543638301.py:15: DeprecationWarning: an integer is required (got type numpy.float64).  Implicit conversion to integers using __int__ is deprecated, and may be removed in a future version of Python.\n",
      "  'label': torch.tensor(self.labels[idx], dtype=torch.long)}\n"
     ]
    },
    {
     "name": "stdout",
     "output_type": "stream",
     "text": [
      "\n",
      "train loss: 0.0586, train acc: 99.3043\n"
     ]
    },
    {
     "name": "stderr",
     "output_type": "stream",
     "text": [
      "C:\\Users\\addmin\\AppData\\Local\\Temp\\ipykernel_21224\\3543638301.py:15: DeprecationWarning: an integer is required (got type numpy.float64).  Implicit conversion to integers using __int__ is deprecated, and may be removed in a future version of Python.\n",
      "  'label': torch.tensor(self.labels[idx], dtype=torch.long)}\n"
     ]
    },
    {
     "name": "stdout",
     "output_type": "stream",
     "text": [
      "\n",
      "train loss: 0.0523, train acc: 99.3443\n"
     ]
    },
    {
     "name": "stderr",
     "output_type": "stream",
     "text": [
      "C:\\Users\\addmin\\AppData\\Local\\Temp\\ipykernel_21224\\3543638301.py:15: DeprecationWarning: an integer is required (got type numpy.float64).  Implicit conversion to integers using __int__ is deprecated, and may be removed in a future version of Python.\n",
      "  'label': torch.tensor(self.labels[idx], dtype=torch.long)}\n"
     ]
    },
    {
     "name": "stdout",
     "output_type": "stream",
     "text": [
      "\n",
      "train loss: 0.0470, train acc: 99.5077\n"
     ]
    },
    {
     "name": "stderr",
     "output_type": "stream",
     "text": [
      "C:\\Users\\addmin\\AppData\\Local\\Temp\\ipykernel_21224\\3543638301.py:15: DeprecationWarning: an integer is required (got type numpy.float64).  Implicit conversion to integers using __int__ is deprecated, and may be removed in a future version of Python.\n",
      "  'label': torch.tensor(self.labels[idx], dtype=torch.long)}\n"
     ]
    },
    {
     "name": "stdout",
     "output_type": "stream",
     "text": [
      "\n",
      "train loss: 0.0428, train acc: 99.5433\n"
     ]
    },
    {
     "name": "stderr",
     "output_type": "stream",
     "text": [
      "C:\\Users\\addmin\\AppData\\Local\\Temp\\ipykernel_21224\\3543638301.py:15: DeprecationWarning: an integer is required (got type numpy.float64).  Implicit conversion to integers using __int__ is deprecated, and may be removed in a future version of Python.\n",
      "  'label': torch.tensor(self.labels[idx], dtype=torch.long)}\n"
     ]
    },
    {
     "name": "stdout",
     "output_type": "stream",
     "text": [
      "\n",
      "train loss: 0.0397, train acc: 99.5544\n"
     ]
    },
    {
     "name": "stderr",
     "output_type": "stream",
     "text": [
      "C:\\Users\\addmin\\AppData\\Local\\Temp\\ipykernel_21224\\3543638301.py:15: DeprecationWarning: an integer is required (got type numpy.float64).  Implicit conversion to integers using __int__ is deprecated, and may be removed in a future version of Python.\n",
      "  'label': torch.tensor(self.labels[idx], dtype=torch.long)}\n"
     ]
    },
    {
     "name": "stdout",
     "output_type": "stream",
     "text": [
      "\n",
      "train loss: 0.0372, train acc: 99.5221\n"
     ]
    },
    {
     "name": "stderr",
     "output_type": "stream",
     "text": [
      "C:\\Users\\addmin\\AppData\\Local\\Temp\\ipykernel_21224\\3543638301.py:15: DeprecationWarning: an integer is required (got type numpy.float64).  Implicit conversion to integers using __int__ is deprecated, and may be removed in a future version of Python.\n",
      "  'label': torch.tensor(self.labels[idx], dtype=torch.long)}\n"
     ]
    },
    {
     "name": "stdout",
     "output_type": "stream",
     "text": [
      "\n",
      "train loss: 0.0347, train acc: 99.6855\n"
     ]
    },
    {
     "name": "stderr",
     "output_type": "stream",
     "text": [
      "C:\\Users\\addmin\\AppData\\Local\\Temp\\ipykernel_21224\\3543638301.py:15: DeprecationWarning: an integer is required (got type numpy.float64).  Implicit conversion to integers using __int__ is deprecated, and may be removed in a future version of Python.\n",
      "  'label': torch.tensor(self.labels[idx], dtype=torch.long)}\n"
     ]
    },
    {
     "name": "stdout",
     "output_type": "stream",
     "text": [
      "\n",
      "train loss: 0.0328, train acc: 99.6166\n"
     ]
    },
    {
     "name": "stderr",
     "output_type": "stream",
     "text": [
      "C:\\Users\\addmin\\AppData\\Local\\Temp\\ipykernel_21224\\3543638301.py:15: DeprecationWarning: an integer is required (got type numpy.float64).  Implicit conversion to integers using __int__ is deprecated, and may be removed in a future version of Python.\n",
      "  'label': torch.tensor(self.labels[idx], dtype=torch.long)}\n"
     ]
    },
    {
     "name": "stdout",
     "output_type": "stream",
     "text": [
      "\n",
      "train loss: 0.0310, train acc: 99.7266\n"
     ]
    },
    {
     "name": "stderr",
     "output_type": "stream",
     "text": [
      "C:\\Users\\addmin\\AppData\\Local\\Temp\\ipykernel_21224\\3543638301.py:15: DeprecationWarning: an integer is required (got type numpy.float64).  Implicit conversion to integers using __int__ is deprecated, and may be removed in a future version of Python.\n",
      "  'label': torch.tensor(self.labels[idx], dtype=torch.long)}\n"
     ]
    },
    {
     "name": "stdout",
     "output_type": "stream",
     "text": [
      "\n",
      "train loss: 0.0293, train acc: 99.7633\n"
     ]
    },
    {
     "name": "stderr",
     "output_type": "stream",
     "text": [
      "C:\\Users\\addmin\\AppData\\Local\\Temp\\ipykernel_21224\\3543638301.py:15: DeprecationWarning: an integer is required (got type numpy.float64).  Implicit conversion to integers using __int__ is deprecated, and may be removed in a future version of Python.\n",
      "  'label': torch.tensor(self.labels[idx], dtype=torch.long)}\n"
     ]
    },
    {
     "name": "stdout",
     "output_type": "stream",
     "text": [
      "\n",
      "train loss: 0.0281, train acc: 99.7022\n"
     ]
    },
    {
     "name": "stderr",
     "output_type": "stream",
     "text": [
      "C:\\Users\\addmin\\AppData\\Local\\Temp\\ipykernel_21224\\3543638301.py:15: DeprecationWarning: an integer is required (got type numpy.float64).  Implicit conversion to integers using __int__ is deprecated, and may be removed in a future version of Python.\n",
      "  'label': torch.tensor(self.labels[idx], dtype=torch.long)}\n"
     ]
    },
    {
     "name": "stdout",
     "output_type": "stream",
     "text": [
      "\n",
      "train loss: 0.0268, train acc: 99.7500\n"
     ]
    },
    {
     "name": "stderr",
     "output_type": "stream",
     "text": [
      "C:\\Users\\addmin\\AppData\\Local\\Temp\\ipykernel_21224\\3543638301.py:15: DeprecationWarning: an integer is required (got type numpy.float64).  Implicit conversion to integers using __int__ is deprecated, and may be removed in a future version of Python.\n",
      "  'label': torch.tensor(self.labels[idx], dtype=torch.long)}\n"
     ]
    },
    {
     "name": "stdout",
     "output_type": "stream",
     "text": [
      "\n",
      "train loss: 0.0256, train acc: 99.7966\n"
     ]
    },
    {
     "name": "stderr",
     "output_type": "stream",
     "text": [
      "C:\\Users\\addmin\\AppData\\Local\\Temp\\ipykernel_21224\\3543638301.py:15: DeprecationWarning: an integer is required (got type numpy.float64).  Implicit conversion to integers using __int__ is deprecated, and may be removed in a future version of Python.\n",
      "  'label': torch.tensor(self.labels[idx], dtype=torch.long)}\n"
     ]
    },
    {
     "name": "stdout",
     "output_type": "stream",
     "text": [
      "\n",
      "train loss: 0.0246, train acc: 99.7466\n"
     ]
    },
    {
     "name": "stderr",
     "output_type": "stream",
     "text": [
      "C:\\Users\\addmin\\AppData\\Local\\Temp\\ipykernel_21224\\3543638301.py:15: DeprecationWarning: an integer is required (got type numpy.float64).  Implicit conversion to integers using __int__ is deprecated, and may be removed in a future version of Python.\n",
      "  'label': torch.tensor(self.labels[idx], dtype=torch.long)}\n"
     ]
    },
    {
     "name": "stdout",
     "output_type": "stream",
     "text": [
      "\n",
      "train loss: 0.0237, train acc: 99.7700\n"
     ]
    },
    {
     "name": "stderr",
     "output_type": "stream",
     "text": [
      "C:\\Users\\addmin\\AppData\\Local\\Temp\\ipykernel_21224\\3543638301.py:15: DeprecationWarning: an integer is required (got type numpy.float64).  Implicit conversion to integers using __int__ is deprecated, and may be removed in a future version of Python.\n",
      "  'label': torch.tensor(self.labels[idx], dtype=torch.long)}\n"
     ]
    },
    {
     "name": "stdout",
     "output_type": "stream",
     "text": [
      "\n",
      "train loss: 0.0228, train acc: 99.8089\n"
     ]
    },
    {
     "name": "stderr",
     "output_type": "stream",
     "text": [
      "C:\\Users\\addmin\\AppData\\Local\\Temp\\ipykernel_21224\\3543638301.py:15: DeprecationWarning: an integer is required (got type numpy.float64).  Implicit conversion to integers using __int__ is deprecated, and may be removed in a future version of Python.\n",
      "  'label': torch.tensor(self.labels[idx], dtype=torch.long)}\n"
     ]
    },
    {
     "name": "stdout",
     "output_type": "stream",
     "text": [
      "\n",
      "train loss: 0.0220, train acc: 99.8100\n"
     ]
    },
    {
     "name": "stderr",
     "output_type": "stream",
     "text": [
      "C:\\Users\\addmin\\AppData\\Local\\Temp\\ipykernel_21224\\3543638301.py:15: DeprecationWarning: an integer is required (got type numpy.float64).  Implicit conversion to integers using __int__ is deprecated, and may be removed in a future version of Python.\n",
      "  'label': torch.tensor(self.labels[idx], dtype=torch.long)}\n"
     ]
    },
    {
     "name": "stdout",
     "output_type": "stream",
     "text": [
      "\n",
      "train loss: 0.0213, train acc: 99.7688\n"
     ]
    },
    {
     "name": "stderr",
     "output_type": "stream",
     "text": [
      "C:\\Users\\addmin\\AppData\\Local\\Temp\\ipykernel_21224\\3543638301.py:15: DeprecationWarning: an integer is required (got type numpy.float64).  Implicit conversion to integers using __int__ is deprecated, and may be removed in a future version of Python.\n",
      "  'label': torch.tensor(self.labels[idx], dtype=torch.long)}\n"
     ]
    },
    {
     "name": "stdout",
     "output_type": "stream",
     "text": [
      "\n",
      "train loss: 0.0206, train acc: 99.8522\n"
     ]
    },
    {
     "name": "stderr",
     "output_type": "stream",
     "text": [
      "C:\\Users\\addmin\\AppData\\Local\\Temp\\ipykernel_21224\\3543638301.py:15: DeprecationWarning: an integer is required (got type numpy.float64).  Implicit conversion to integers using __int__ is deprecated, and may be removed in a future version of Python.\n",
      "  'label': torch.tensor(self.labels[idx], dtype=torch.long)}\n"
     ]
    },
    {
     "name": "stdout",
     "output_type": "stream",
     "text": [
      "\n",
      "train loss: 0.0200, train acc: 99.8389\n"
     ]
    },
    {
     "name": "stderr",
     "output_type": "stream",
     "text": [
      "C:\\Users\\addmin\\AppData\\Local\\Temp\\ipykernel_21224\\3543638301.py:15: DeprecationWarning: an integer is required (got type numpy.float64).  Implicit conversion to integers using __int__ is deprecated, and may be removed in a future version of Python.\n",
      "  'label': torch.tensor(self.labels[idx], dtype=torch.long)}\n"
     ]
    },
    {
     "name": "stdout",
     "output_type": "stream",
     "text": [
      "\n",
      "train loss: 0.0194, train acc: 99.7622\n"
     ]
    },
    {
     "name": "stderr",
     "output_type": "stream",
     "text": [
      "C:\\Users\\addmin\\AppData\\Local\\Temp\\ipykernel_21224\\3543638301.py:15: DeprecationWarning: an integer is required (got type numpy.float64).  Implicit conversion to integers using __int__ is deprecated, and may be removed in a future version of Python.\n",
      "  'label': torch.tensor(self.labels[idx], dtype=torch.long)}\n"
     ]
    },
    {
     "name": "stdout",
     "output_type": "stream",
     "text": [
      "\n",
      "train loss: 0.0189, train acc: 99.8500\n"
     ]
    },
    {
     "name": "stderr",
     "output_type": "stream",
     "text": [
      "C:\\Users\\addmin\\AppData\\Local\\Temp\\ipykernel_21224\\3543638301.py:15: DeprecationWarning: an integer is required (got type numpy.float64).  Implicit conversion to integers using __int__ is deprecated, and may be removed in a future version of Python.\n",
      "  'label': torch.tensor(self.labels[idx], dtype=torch.long)}\n"
     ]
    },
    {
     "name": "stdout",
     "output_type": "stream",
     "text": [
      "\n",
      "train loss: 0.0183, train acc: 99.8733\n"
     ]
    },
    {
     "name": "stderr",
     "output_type": "stream",
     "text": [
      "C:\\Users\\addmin\\AppData\\Local\\Temp\\ipykernel_21224\\3543638301.py:15: DeprecationWarning: an integer is required (got type numpy.float64).  Implicit conversion to integers using __int__ is deprecated, and may be removed in a future version of Python.\n",
      "  'label': torch.tensor(self.labels[idx], dtype=torch.long)}\n"
     ]
    },
    {
     "name": "stdout",
     "output_type": "stream",
     "text": [
      "\n",
      "train loss: 0.0178, train acc: 99.8778\n"
     ]
    },
    {
     "name": "stderr",
     "output_type": "stream",
     "text": [
      "C:\\Users\\addmin\\AppData\\Local\\Temp\\ipykernel_21224\\3543638301.py:15: DeprecationWarning: an integer is required (got type numpy.float64).  Implicit conversion to integers using __int__ is deprecated, and may be removed in a future version of Python.\n",
      "  'label': torch.tensor(self.labels[idx], dtype=torch.long)}\n"
     ]
    },
    {
     "name": "stdout",
     "output_type": "stream",
     "text": [
      "\n",
      "train loss: 0.0174, train acc: 99.8355\n"
     ]
    },
    {
     "name": "stderr",
     "output_type": "stream",
     "text": [
      "C:\\Users\\addmin\\AppData\\Local\\Temp\\ipykernel_21224\\3543638301.py:15: DeprecationWarning: an integer is required (got type numpy.float64).  Implicit conversion to integers using __int__ is deprecated, and may be removed in a future version of Python.\n",
      "  'label': torch.tensor(self.labels[idx], dtype=torch.long)}\n"
     ]
    },
    {
     "name": "stdout",
     "output_type": "stream",
     "text": [
      "\n",
      "train loss: 0.0170, train acc: 99.8578\n"
     ]
    },
    {
     "name": "stderr",
     "output_type": "stream",
     "text": [
      "C:\\Users\\addmin\\AppData\\Local\\Temp\\ipykernel_21224\\3543638301.py:15: DeprecationWarning: an integer is required (got type numpy.float64).  Implicit conversion to integers using __int__ is deprecated, and may be removed in a future version of Python.\n",
      "  'label': torch.tensor(self.labels[idx], dtype=torch.long)}\n"
     ]
    },
    {
     "name": "stdout",
     "output_type": "stream",
     "text": [
      "\n",
      "train loss: 0.0166, train acc: 99.8666\n"
     ]
    },
    {
     "name": "stderr",
     "output_type": "stream",
     "text": [
      "C:\\Users\\addmin\\AppData\\Local\\Temp\\ipykernel_21224\\3543638301.py:15: DeprecationWarning: an integer is required (got type numpy.float64).  Implicit conversion to integers using __int__ is deprecated, and may be removed in a future version of Python.\n",
      "  'label': torch.tensor(self.labels[idx], dtype=torch.long)}\n"
     ]
    },
    {
     "name": "stdout",
     "output_type": "stream",
     "text": [
      "\n",
      "train loss: 0.0161, train acc: 99.9011\n"
     ]
    },
    {
     "name": "stderr",
     "output_type": "stream",
     "text": [
      "C:\\Users\\addmin\\AppData\\Local\\Temp\\ipykernel_21224\\3543638301.py:15: DeprecationWarning: an integer is required (got type numpy.float64).  Implicit conversion to integers using __int__ is deprecated, and may be removed in a future version of Python.\n",
      "  'label': torch.tensor(self.labels[idx], dtype=torch.long)}\n"
     ]
    },
    {
     "name": "stdout",
     "output_type": "stream",
     "text": [
      "\n",
      "train loss: 0.0158, train acc: 99.8989\n"
     ]
    },
    {
     "name": "stderr",
     "output_type": "stream",
     "text": [
      "C:\\Users\\addmin\\AppData\\Local\\Temp\\ipykernel_21224\\3543638301.py:15: DeprecationWarning: an integer is required (got type numpy.float64).  Implicit conversion to integers using __int__ is deprecated, and may be removed in a future version of Python.\n",
      "  'label': torch.tensor(self.labels[idx], dtype=torch.long)}\n"
     ]
    },
    {
     "name": "stdout",
     "output_type": "stream",
     "text": [
      "\n",
      "train loss: 0.0154, train acc: 99.9267\n"
     ]
    },
    {
     "name": "stderr",
     "output_type": "stream",
     "text": [
      "C:\\Users\\addmin\\AppData\\Local\\Temp\\ipykernel_21224\\3543638301.py:15: DeprecationWarning: an integer is required (got type numpy.float64).  Implicit conversion to integers using __int__ is deprecated, and may be removed in a future version of Python.\n",
      "  'label': torch.tensor(self.labels[idx], dtype=torch.long)}\n"
     ]
    },
    {
     "name": "stdout",
     "output_type": "stream",
     "text": [
      "\n",
      "train loss: 0.0151, train acc: 99.8755\n"
     ]
    },
    {
     "name": "stderr",
     "output_type": "stream",
     "text": [
      "C:\\Users\\addmin\\AppData\\Local\\Temp\\ipykernel_21224\\3543638301.py:15: DeprecationWarning: an integer is required (got type numpy.float64).  Implicit conversion to integers using __int__ is deprecated, and may be removed in a future version of Python.\n",
      "  'label': torch.tensor(self.labels[idx], dtype=torch.long)}\n"
     ]
    },
    {
     "name": "stdout",
     "output_type": "stream",
     "text": [
      "\n",
      "train loss: 0.0147, train acc: 99.8944\n"
     ]
    },
    {
     "name": "stderr",
     "output_type": "stream",
     "text": [
      "C:\\Users\\addmin\\AppData\\Local\\Temp\\ipykernel_21224\\3543638301.py:15: DeprecationWarning: an integer is required (got type numpy.float64).  Implicit conversion to integers using __int__ is deprecated, and may be removed in a future version of Python.\n",
      "  'label': torch.tensor(self.labels[idx], dtype=torch.long)}\n"
     ]
    },
    {
     "name": "stdout",
     "output_type": "stream",
     "text": [
      "\n",
      "train loss: 0.0145, train acc: 99.8578\n"
     ]
    },
    {
     "name": "stderr",
     "output_type": "stream",
     "text": [
      "C:\\Users\\addmin\\AppData\\Local\\Temp\\ipykernel_21224\\3543638301.py:15: DeprecationWarning: an integer is required (got type numpy.float64).  Implicit conversion to integers using __int__ is deprecated, and may be removed in a future version of Python.\n",
      "  'label': torch.tensor(self.labels[idx], dtype=torch.long)}\n"
     ]
    },
    {
     "name": "stdout",
     "output_type": "stream",
     "text": [
      "\n",
      "train loss: 0.0142, train acc: 99.8978\n"
     ]
    },
    {
     "name": "stderr",
     "output_type": "stream",
     "text": [
      "C:\\Users\\addmin\\AppData\\Local\\Temp\\ipykernel_21224\\3543638301.py:15: DeprecationWarning: an integer is required (got type numpy.float64).  Implicit conversion to integers using __int__ is deprecated, and may be removed in a future version of Python.\n",
      "  'label': torch.tensor(self.labels[idx], dtype=torch.long)}\n"
     ]
    },
    {
     "name": "stdout",
     "output_type": "stream",
     "text": [
      "\n",
      "train loss: 0.0139, train acc: 99.8878\n"
     ]
    },
    {
     "name": "stderr",
     "output_type": "stream",
     "text": [
      "C:\\Users\\addmin\\AppData\\Local\\Temp\\ipykernel_21224\\3543638301.py:15: DeprecationWarning: an integer is required (got type numpy.float64).  Implicit conversion to integers using __int__ is deprecated, and may be removed in a future version of Python.\n",
      "  'label': torch.tensor(self.labels[idx], dtype=torch.long)}\n"
     ]
    },
    {
     "name": "stdout",
     "output_type": "stream",
     "text": [
      "\n",
      "train loss: 0.0137, train acc: 99.8511\n"
     ]
    },
    {
     "name": "stderr",
     "output_type": "stream",
     "text": [
      "C:\\Users\\addmin\\AppData\\Local\\Temp\\ipykernel_21224\\3543638301.py:15: DeprecationWarning: an integer is required (got type numpy.float64).  Implicit conversion to integers using __int__ is deprecated, and may be removed in a future version of Python.\n",
      "  'label': torch.tensor(self.labels[idx], dtype=torch.long)}\n"
     ]
    },
    {
     "name": "stdout",
     "output_type": "stream",
     "text": [
      "\n",
      "train loss: 0.0134, train acc: 99.9067\n"
     ]
    },
    {
     "name": "stderr",
     "output_type": "stream",
     "text": [
      "C:\\Users\\addmin\\AppData\\Local\\Temp\\ipykernel_21224\\3543638301.py:15: DeprecationWarning: an integer is required (got type numpy.float64).  Implicit conversion to integers using __int__ is deprecated, and may be removed in a future version of Python.\n",
      "  'label': torch.tensor(self.labels[idx], dtype=torch.long)}\n"
     ]
    },
    {
     "name": "stdout",
     "output_type": "stream",
     "text": [
      "\n",
      "train loss: 0.0132, train acc: 99.9089\n"
     ]
    },
    {
     "name": "stderr",
     "output_type": "stream",
     "text": [
      "C:\\Users\\addmin\\AppData\\Local\\Temp\\ipykernel_21224\\3543638301.py:15: DeprecationWarning: an integer is required (got type numpy.float64).  Implicit conversion to integers using __int__ is deprecated, and may be removed in a future version of Python.\n",
      "  'label': torch.tensor(self.labels[idx], dtype=torch.long)}\n"
     ]
    },
    {
     "name": "stdout",
     "output_type": "stream",
     "text": [
      "\n",
      "train loss: 0.0129, train acc: 99.9100\n"
     ]
    },
    {
     "name": "stderr",
     "output_type": "stream",
     "text": [
      "C:\\Users\\addmin\\AppData\\Local\\Temp\\ipykernel_21224\\3543638301.py:15: DeprecationWarning: an integer is required (got type numpy.float64).  Implicit conversion to integers using __int__ is deprecated, and may be removed in a future version of Python.\n",
      "  'label': torch.tensor(self.labels[idx], dtype=torch.long)}\n"
     ]
    },
    {
     "name": "stdout",
     "output_type": "stream",
     "text": [
      "\n",
      "train loss: 0.0128, train acc: 99.8322\n"
     ]
    },
    {
     "name": "stderr",
     "output_type": "stream",
     "text": [
      "C:\\Users\\addmin\\AppData\\Local\\Temp\\ipykernel_21224\\3543638301.py:15: DeprecationWarning: an integer is required (got type numpy.float64).  Implicit conversion to integers using __int__ is deprecated, and may be removed in a future version of Python.\n",
      "  'label': torch.tensor(self.labels[idx], dtype=torch.long)}\n"
     ]
    },
    {
     "name": "stdout",
     "output_type": "stream",
     "text": [
      "\n",
      "train loss: 0.0125, train acc: 99.9267\n"
     ]
    },
    {
     "name": "stderr",
     "output_type": "stream",
     "text": [
      "C:\\Users\\addmin\\AppData\\Local\\Temp\\ipykernel_21224\\3543638301.py:15: DeprecationWarning: an integer is required (got type numpy.float64).  Implicit conversion to integers using __int__ is deprecated, and may be removed in a future version of Python.\n",
      "  'label': torch.tensor(self.labels[idx], dtype=torch.long)}\n"
     ]
    },
    {
     "name": "stdout",
     "output_type": "stream",
     "text": [
      "\n",
      "train loss: 0.0123, train acc: 99.9011\n"
     ]
    },
    {
     "name": "stderr",
     "output_type": "stream",
     "text": [
      "C:\\Users\\addmin\\AppData\\Local\\Temp\\ipykernel_21224\\3543638301.py:15: DeprecationWarning: an integer is required (got type numpy.float64).  Implicit conversion to integers using __int__ is deprecated, and may be removed in a future version of Python.\n",
      "  'label': torch.tensor(self.labels[idx], dtype=torch.long)}\n"
     ]
    },
    {
     "name": "stdout",
     "output_type": "stream",
     "text": [
      "\n",
      "train loss: 0.0121, train acc: 99.9500\n"
     ]
    },
    {
     "name": "stderr",
     "output_type": "stream",
     "text": [
      "C:\\Users\\addmin\\AppData\\Local\\Temp\\ipykernel_21224\\3543638301.py:15: DeprecationWarning: an integer is required (got type numpy.float64).  Implicit conversion to integers using __int__ is deprecated, and may be removed in a future version of Python.\n",
      "  'label': torch.tensor(self.labels[idx], dtype=torch.long)}\n"
     ]
    },
    {
     "name": "stdout",
     "output_type": "stream",
     "text": [
      "\n",
      "train loss: 0.0119, train acc: 99.9155\n"
     ]
    },
    {
     "name": "stderr",
     "output_type": "stream",
     "text": [
      "C:\\Users\\addmin\\AppData\\Local\\Temp\\ipykernel_21224\\3543638301.py:15: DeprecationWarning: an integer is required (got type numpy.float64).  Implicit conversion to integers using __int__ is deprecated, and may be removed in a future version of Python.\n",
      "  'label': torch.tensor(self.labels[idx], dtype=torch.long)}\n"
     ]
    },
    {
     "name": "stdout",
     "output_type": "stream",
     "text": [
      "\n",
      "train loss: 0.0118, train acc: 99.8866\n"
     ]
    },
    {
     "name": "stderr",
     "output_type": "stream",
     "text": [
      "C:\\Users\\addmin\\AppData\\Local\\Temp\\ipykernel_21224\\3543638301.py:15: DeprecationWarning: an integer is required (got type numpy.float64).  Implicit conversion to integers using __int__ is deprecated, and may be removed in a future version of Python.\n",
      "  'label': torch.tensor(self.labels[idx], dtype=torch.long)}\n"
     ]
    },
    {
     "name": "stdout",
     "output_type": "stream",
     "text": [
      "\n",
      "train loss: 0.0116, train acc: 99.9055\n"
     ]
    },
    {
     "name": "stderr",
     "output_type": "stream",
     "text": [
      "C:\\Users\\addmin\\AppData\\Local\\Temp\\ipykernel_21224\\3543638301.py:15: DeprecationWarning: an integer is required (got type numpy.float64).  Implicit conversion to integers using __int__ is deprecated, and may be removed in a future version of Python.\n",
      "  'label': torch.tensor(self.labels[idx], dtype=torch.long)}\n"
     ]
    },
    {
     "name": "stdout",
     "output_type": "stream",
     "text": [
      "\n",
      "train loss: 0.0114, train acc: 99.9455\n"
     ]
    },
    {
     "name": "stderr",
     "output_type": "stream",
     "text": [
      "C:\\Users\\addmin\\AppData\\Local\\Temp\\ipykernel_21224\\3543638301.py:15: DeprecationWarning: an integer is required (got type numpy.float64).  Implicit conversion to integers using __int__ is deprecated, and may be removed in a future version of Python.\n",
      "  'label': torch.tensor(self.labels[idx], dtype=torch.long)}\n"
     ]
    },
    {
     "name": "stdout",
     "output_type": "stream",
     "text": [
      "\n",
      "train loss: 0.0112, train acc: 99.9255\n"
     ]
    },
    {
     "name": "stderr",
     "output_type": "stream",
     "text": [
      "C:\\Users\\addmin\\AppData\\Local\\Temp\\ipykernel_21224\\3543638301.py:15: DeprecationWarning: an integer is required (got type numpy.float64).  Implicit conversion to integers using __int__ is deprecated, and may be removed in a future version of Python.\n",
      "  'label': torch.tensor(self.labels[idx], dtype=torch.long)}\n"
     ]
    },
    {
     "name": "stdout",
     "output_type": "stream",
     "text": [
      "\n",
      "train loss: 0.0111, train acc: 99.9000\n"
     ]
    },
    {
     "name": "stderr",
     "output_type": "stream",
     "text": [
      "C:\\Users\\addmin\\AppData\\Local\\Temp\\ipykernel_21224\\3543638301.py:15: DeprecationWarning: an integer is required (got type numpy.float64).  Implicit conversion to integers using __int__ is deprecated, and may be removed in a future version of Python.\n",
      "  'label': torch.tensor(self.labels[idx], dtype=torch.long)}\n"
     ]
    },
    {
     "name": "stdout",
     "output_type": "stream",
     "text": [
      "\n",
      "train loss: 0.0109, train acc: 99.9000\n"
     ]
    },
    {
     "name": "stderr",
     "output_type": "stream",
     "text": [
      "C:\\Users\\addmin\\AppData\\Local\\Temp\\ipykernel_21224\\3543638301.py:15: DeprecationWarning: an integer is required (got type numpy.float64).  Implicit conversion to integers using __int__ is deprecated, and may be removed in a future version of Python.\n",
      "  'label': torch.tensor(self.labels[idx], dtype=torch.long)}\n"
     ]
    },
    {
     "name": "stdout",
     "output_type": "stream",
     "text": [
      "\n",
      "train loss: 0.0108, train acc: 99.9633\n"
     ]
    },
    {
     "name": "stderr",
     "output_type": "stream",
     "text": [
      "C:\\Users\\addmin\\AppData\\Local\\Temp\\ipykernel_21224\\3543638301.py:15: DeprecationWarning: an integer is required (got type numpy.float64).  Implicit conversion to integers using __int__ is deprecated, and may be removed in a future version of Python.\n",
      "  'label': torch.tensor(self.labels[idx], dtype=torch.long)}\n"
     ]
    },
    {
     "name": "stdout",
     "output_type": "stream",
     "text": [
      "\n",
      "train loss: 0.0106, train acc: 99.9178\n"
     ]
    },
    {
     "name": "stderr",
     "output_type": "stream",
     "text": [
      "C:\\Users\\addmin\\AppData\\Local\\Temp\\ipykernel_21224\\3543638301.py:15: DeprecationWarning: an integer is required (got type numpy.float64).  Implicit conversion to integers using __int__ is deprecated, and may be removed in a future version of Python.\n",
      "  'label': torch.tensor(self.labels[idx], dtype=torch.long)}\n"
     ]
    },
    {
     "name": "stdout",
     "output_type": "stream",
     "text": [
      "\n",
      "train loss: 0.0105, train acc: 99.9389\n"
     ]
    },
    {
     "name": "stderr",
     "output_type": "stream",
     "text": [
      "C:\\Users\\addmin\\AppData\\Local\\Temp\\ipykernel_21224\\3543638301.py:15: DeprecationWarning: an integer is required (got type numpy.float64).  Implicit conversion to integers using __int__ is deprecated, and may be removed in a future version of Python.\n",
      "  'label': torch.tensor(self.labels[idx], dtype=torch.long)}\n"
     ]
    },
    {
     "name": "stdout",
     "output_type": "stream",
     "text": [
      "\n",
      "train loss: 0.0103, train acc: 99.9144\n"
     ]
    },
    {
     "name": "stderr",
     "output_type": "stream",
     "text": [
      "C:\\Users\\addmin\\AppData\\Local\\Temp\\ipykernel_21224\\3543638301.py:15: DeprecationWarning: an integer is required (got type numpy.float64).  Implicit conversion to integers using __int__ is deprecated, and may be removed in a future version of Python.\n",
      "  'label': torch.tensor(self.labels[idx], dtype=torch.long)}\n"
     ]
    },
    {
     "name": "stdout",
     "output_type": "stream",
     "text": [
      "\n",
      "train loss: 0.0102, train acc: 99.9589\n"
     ]
    },
    {
     "name": "stderr",
     "output_type": "stream",
     "text": [
      "C:\\Users\\addmin\\AppData\\Local\\Temp\\ipykernel_21224\\3543638301.py:15: DeprecationWarning: an integer is required (got type numpy.float64).  Implicit conversion to integers using __int__ is deprecated, and may be removed in a future version of Python.\n",
      "  'label': torch.tensor(self.labels[idx], dtype=torch.long)}\n"
     ]
    },
    {
     "name": "stdout",
     "output_type": "stream",
     "text": [
      "\n",
      "train loss: 0.0101, train acc: 99.8855\n"
     ]
    },
    {
     "name": "stderr",
     "output_type": "stream",
     "text": [
      "C:\\Users\\addmin\\AppData\\Local\\Temp\\ipykernel_21224\\3543638301.py:15: DeprecationWarning: an integer is required (got type numpy.float64).  Implicit conversion to integers using __int__ is deprecated, and may be removed in a future version of Python.\n",
      "  'label': torch.tensor(self.labels[idx], dtype=torch.long)}\n"
     ]
    },
    {
     "name": "stdout",
     "output_type": "stream",
     "text": [
      "\n",
      "train loss: 0.0099, train acc: 99.9622\n"
     ]
    },
    {
     "name": "stderr",
     "output_type": "stream",
     "text": [
      "C:\\Users\\addmin\\AppData\\Local\\Temp\\ipykernel_21224\\3543638301.py:15: DeprecationWarning: an integer is required (got type numpy.float64).  Implicit conversion to integers using __int__ is deprecated, and may be removed in a future version of Python.\n",
      "  'label': torch.tensor(self.labels[idx], dtype=torch.long)}\n"
     ]
    },
    {
     "name": "stdout",
     "output_type": "stream",
     "text": [
      "\n",
      "train loss: 0.0098, train acc: 99.9322\n"
     ]
    },
    {
     "name": "stderr",
     "output_type": "stream",
     "text": [
      "C:\\Users\\addmin\\AppData\\Local\\Temp\\ipykernel_21224\\3543638301.py:15: DeprecationWarning: an integer is required (got type numpy.float64).  Implicit conversion to integers using __int__ is deprecated, and may be removed in a future version of Python.\n",
      "  'label': torch.tensor(self.labels[idx], dtype=torch.long)}\n"
     ]
    },
    {
     "name": "stdout",
     "output_type": "stream",
     "text": [
      "\n",
      "train loss: 0.0097, train acc: 99.9178\n"
     ]
    },
    {
     "name": "stderr",
     "output_type": "stream",
     "text": [
      "C:\\Users\\addmin\\AppData\\Local\\Temp\\ipykernel_21224\\3543638301.py:15: DeprecationWarning: an integer is required (got type numpy.float64).  Implicit conversion to integers using __int__ is deprecated, and may be removed in a future version of Python.\n",
      "  'label': torch.tensor(self.labels[idx], dtype=torch.long)}\n"
     ]
    },
    {
     "name": "stdout",
     "output_type": "stream",
     "text": [
      "\n",
      "train loss: 0.0096, train acc: 99.9444\n"
     ]
    },
    {
     "name": "stderr",
     "output_type": "stream",
     "text": [
      "C:\\Users\\addmin\\AppData\\Local\\Temp\\ipykernel_21224\\3543638301.py:15: DeprecationWarning: an integer is required (got type numpy.float64).  Implicit conversion to integers using __int__ is deprecated, and may be removed in a future version of Python.\n",
      "  'label': torch.tensor(self.labels[idx], dtype=torch.long)}\n"
     ]
    },
    {
     "name": "stdout",
     "output_type": "stream",
     "text": [
      "\n",
      "train loss: 0.0095, train acc: 99.9344\n"
     ]
    },
    {
     "name": "stderr",
     "output_type": "stream",
     "text": [
      "C:\\Users\\addmin\\AppData\\Local\\Temp\\ipykernel_21224\\3543638301.py:15: DeprecationWarning: an integer is required (got type numpy.float64).  Implicit conversion to integers using __int__ is deprecated, and may be removed in a future version of Python.\n",
      "  'label': torch.tensor(self.labels[idx], dtype=torch.long)}\n"
     ]
    },
    {
     "name": "stdout",
     "output_type": "stream",
     "text": [
      "\n",
      "train loss: 0.0094, train acc: 99.9667\n"
     ]
    },
    {
     "name": "stderr",
     "output_type": "stream",
     "text": [
      "C:\\Users\\addmin\\AppData\\Local\\Temp\\ipykernel_21224\\3543638301.py:15: DeprecationWarning: an integer is required (got type numpy.float64).  Implicit conversion to integers using __int__ is deprecated, and may be removed in a future version of Python.\n",
      "  'label': torch.tensor(self.labels[idx], dtype=torch.long)}\n"
     ]
    },
    {
     "name": "stdout",
     "output_type": "stream",
     "text": [
      "\n",
      "train loss: 0.0092, train acc: 99.9389\n"
     ]
    },
    {
     "name": "stderr",
     "output_type": "stream",
     "text": [
      "C:\\Users\\addmin\\AppData\\Local\\Temp\\ipykernel_21224\\3543638301.py:15: DeprecationWarning: an integer is required (got type numpy.float64).  Implicit conversion to integers using __int__ is deprecated, and may be removed in a future version of Python.\n",
      "  'label': torch.tensor(self.labels[idx], dtype=torch.long)}\n"
     ]
    },
    {
     "name": "stdout",
     "output_type": "stream",
     "text": [
      "\n",
      "train loss: 0.0091, train acc: 99.9244\n"
     ]
    },
    {
     "name": "stderr",
     "output_type": "stream",
     "text": [
      "C:\\Users\\addmin\\AppData\\Local\\Temp\\ipykernel_21224\\3543638301.py:15: DeprecationWarning: an integer is required (got type numpy.float64).  Implicit conversion to integers using __int__ is deprecated, and may be removed in a future version of Python.\n",
      "  'label': torch.tensor(self.labels[idx], dtype=torch.long)}\n"
     ]
    },
    {
     "name": "stdout",
     "output_type": "stream",
     "text": [
      "\n",
      "train loss: 0.0091, train acc: 99.8989\n"
     ]
    },
    {
     "name": "stderr",
     "output_type": "stream",
     "text": [
      "C:\\Users\\addmin\\AppData\\Local\\Temp\\ipykernel_21224\\3543638301.py:15: DeprecationWarning: an integer is required (got type numpy.float64).  Implicit conversion to integers using __int__ is deprecated, and may be removed in a future version of Python.\n",
      "  'label': torch.tensor(self.labels[idx], dtype=torch.long)}\n"
     ]
    },
    {
     "name": "stdout",
     "output_type": "stream",
     "text": [
      "\n",
      "train loss: 0.0089, train acc: 99.9555\n"
     ]
    },
    {
     "name": "stderr",
     "output_type": "stream",
     "text": [
      "C:\\Users\\addmin\\AppData\\Local\\Temp\\ipykernel_21224\\3543638301.py:15: DeprecationWarning: an integer is required (got type numpy.float64).  Implicit conversion to integers using __int__ is deprecated, and may be removed in a future version of Python.\n",
      "  'label': torch.tensor(self.labels[idx], dtype=torch.long)}\n"
     ]
    },
    {
     "name": "stdout",
     "output_type": "stream",
     "text": [
      "\n",
      "train loss: 0.0089, train acc: 99.9222\n"
     ]
    },
    {
     "name": "stderr",
     "output_type": "stream",
     "text": [
      "C:\\Users\\addmin\\AppData\\Local\\Temp\\ipykernel_21224\\3543638301.py:15: DeprecationWarning: an integer is required (got type numpy.float64).  Implicit conversion to integers using __int__ is deprecated, and may be removed in a future version of Python.\n",
      "  'label': torch.tensor(self.labels[idx], dtype=torch.long)}\n"
     ]
    },
    {
     "name": "stdout",
     "output_type": "stream",
     "text": [
      "\n",
      "train loss: 0.0088, train acc: 99.9700\n"
     ]
    },
    {
     "name": "stderr",
     "output_type": "stream",
     "text": [
      "C:\\Users\\addmin\\AppData\\Local\\Temp\\ipykernel_21224\\3543638301.py:15: DeprecationWarning: an integer is required (got type numpy.float64).  Implicit conversion to integers using __int__ is deprecated, and may be removed in a future version of Python.\n",
      "  'label': torch.tensor(self.labels[idx], dtype=torch.long)}\n"
     ]
    },
    {
     "name": "stdout",
     "output_type": "stream",
     "text": [
      "\n",
      "train loss: 0.0087, train acc: 99.9600\n"
     ]
    },
    {
     "name": "stderr",
     "output_type": "stream",
     "text": [
      "C:\\Users\\addmin\\AppData\\Local\\Temp\\ipykernel_21224\\3543638301.py:15: DeprecationWarning: an integer is required (got type numpy.float64).  Implicit conversion to integers using __int__ is deprecated, and may be removed in a future version of Python.\n",
      "  'label': torch.tensor(self.labels[idx], dtype=torch.long)}\n"
     ]
    },
    {
     "name": "stdout",
     "output_type": "stream",
     "text": [
      "\n",
      "train loss: 0.0086, train acc: 99.9533\n"
     ]
    },
    {
     "name": "stderr",
     "output_type": "stream",
     "text": [
      "C:\\Users\\addmin\\AppData\\Local\\Temp\\ipykernel_21224\\3543638301.py:15: DeprecationWarning: an integer is required (got type numpy.float64).  Implicit conversion to integers using __int__ is deprecated, and may be removed in a future version of Python.\n",
      "  'label': torch.tensor(self.labels[idx], dtype=torch.long)}\n"
     ]
    },
    {
     "name": "stdout",
     "output_type": "stream",
     "text": [
      "\n",
      "train loss: 0.0085, train acc: 99.9300\n"
     ]
    },
    {
     "name": "stderr",
     "output_type": "stream",
     "text": [
      "C:\\Users\\addmin\\AppData\\Local\\Temp\\ipykernel_21224\\3543638301.py:15: DeprecationWarning: an integer is required (got type numpy.float64).  Implicit conversion to integers using __int__ is deprecated, and may be removed in a future version of Python.\n",
      "  'label': torch.tensor(self.labels[idx], dtype=torch.long)}\n"
     ]
    },
    {
     "name": "stdout",
     "output_type": "stream",
     "text": [
      "\n",
      "train loss: 0.0084, train acc: 99.9333\n"
     ]
    },
    {
     "name": "stderr",
     "output_type": "stream",
     "text": [
      "C:\\Users\\addmin\\AppData\\Local\\Temp\\ipykernel_21224\\3543638301.py:15: DeprecationWarning: an integer is required (got type numpy.float64).  Implicit conversion to integers using __int__ is deprecated, and may be removed in a future version of Python.\n",
      "  'label': torch.tensor(self.labels[idx], dtype=torch.long)}\n"
     ]
    },
    {
     "name": "stdout",
     "output_type": "stream",
     "text": [
      "\n",
      "train loss: 0.0083, train acc: 99.9311\n"
     ]
    },
    {
     "name": "stderr",
     "output_type": "stream",
     "text": [
      "C:\\Users\\addmin\\AppData\\Local\\Temp\\ipykernel_21224\\3543638301.py:15: DeprecationWarning: an integer is required (got type numpy.float64).  Implicit conversion to integers using __int__ is deprecated, and may be removed in a future version of Python.\n",
      "  'label': torch.tensor(self.labels[idx], dtype=torch.long)}\n"
     ]
    },
    {
     "name": "stdout",
     "output_type": "stream",
     "text": [
      "\n",
      "train loss: 0.0082, train acc: 99.9400\n"
     ]
    },
    {
     "name": "stderr",
     "output_type": "stream",
     "text": [
      "C:\\Users\\addmin\\AppData\\Local\\Temp\\ipykernel_21224\\3543638301.py:15: DeprecationWarning: an integer is required (got type numpy.float64).  Implicit conversion to integers using __int__ is deprecated, and may be removed in a future version of Python.\n",
      "  'label': torch.tensor(self.labels[idx], dtype=torch.long)}\n"
     ]
    },
    {
     "name": "stdout",
     "output_type": "stream",
     "text": [
      "\n",
      "train loss: 0.0082, train acc: 99.9089\n"
     ]
    },
    {
     "name": "stderr",
     "output_type": "stream",
     "text": [
      "C:\\Users\\addmin\\AppData\\Local\\Temp\\ipykernel_21224\\3543638301.py:15: DeprecationWarning: an integer is required (got type numpy.float64).  Implicit conversion to integers using __int__ is deprecated, and may be removed in a future version of Python.\n",
      "  'label': torch.tensor(self.labels[idx], dtype=torch.long)}\n"
     ]
    },
    {
     "name": "stdout",
     "output_type": "stream",
     "text": [
      "\n",
      "train loss: 0.0081, train acc: 99.9578\n"
     ]
    },
    {
     "name": "stderr",
     "output_type": "stream",
     "text": [
      "C:\\Users\\addmin\\AppData\\Local\\Temp\\ipykernel_21224\\3543638301.py:15: DeprecationWarning: an integer is required (got type numpy.float64).  Implicit conversion to integers using __int__ is deprecated, and may be removed in a future version of Python.\n",
      "  'label': torch.tensor(self.labels[idx], dtype=torch.long)}\n"
     ]
    },
    {
     "name": "stdout",
     "output_type": "stream",
     "text": [
      "\n",
      "train loss: 0.0080, train acc: 99.9622\n"
     ]
    },
    {
     "name": "stderr",
     "output_type": "stream",
     "text": [
      "C:\\Users\\addmin\\AppData\\Local\\Temp\\ipykernel_21224\\3543638301.py:15: DeprecationWarning: an integer is required (got type numpy.float64).  Implicit conversion to integers using __int__ is deprecated, and may be removed in a future version of Python.\n",
      "  'label': torch.tensor(self.labels[idx], dtype=torch.long)}\n"
     ]
    },
    {
     "name": "stdout",
     "output_type": "stream",
     "text": [
      "\n",
      "train loss: 0.0079, train acc: 99.9422\n"
     ]
    },
    {
     "name": "stderr",
     "output_type": "stream",
     "text": [
      "C:\\Users\\addmin\\AppData\\Local\\Temp\\ipykernel_21224\\3543638301.py:15: DeprecationWarning: an integer is required (got type numpy.float64).  Implicit conversion to integers using __int__ is deprecated, and may be removed in a future version of Python.\n",
      "  'label': torch.tensor(self.labels[idx], dtype=torch.long)}\n"
     ]
    },
    {
     "name": "stdout",
     "output_type": "stream",
     "text": [
      "\n",
      "train loss: 0.0078, train acc: 99.9667\n"
     ]
    },
    {
     "name": "stderr",
     "output_type": "stream",
     "text": [
      "C:\\Users\\addmin\\AppData\\Local\\Temp\\ipykernel_21224\\3543638301.py:15: DeprecationWarning: an integer is required (got type numpy.float64).  Implicit conversion to integers using __int__ is deprecated, and may be removed in a future version of Python.\n",
      "  'label': torch.tensor(self.labels[idx], dtype=torch.long)}\n"
     ]
    },
    {
     "name": "stdout",
     "output_type": "stream",
     "text": [
      "\n",
      "train loss: 0.0078, train acc: 99.9611\n"
     ]
    },
    {
     "name": "stderr",
     "output_type": "stream",
     "text": [
      "C:\\Users\\addmin\\AppData\\Local\\Temp\\ipykernel_21224\\3543638301.py:15: DeprecationWarning: an integer is required (got type numpy.float64).  Implicit conversion to integers using __int__ is deprecated, and may be removed in a future version of Python.\n",
      "  'label': torch.tensor(self.labels[idx], dtype=torch.long)}\n"
     ]
    },
    {
     "name": "stdout",
     "output_type": "stream",
     "text": [
      "\n",
      "train loss: 0.0077, train acc: 99.8866\n"
     ]
    },
    {
     "name": "stderr",
     "output_type": "stream",
     "text": [
      "C:\\Users\\addmin\\AppData\\Local\\Temp\\ipykernel_21224\\3543638301.py:15: DeprecationWarning: an integer is required (got type numpy.float64).  Implicit conversion to integers using __int__ is deprecated, and may be removed in a future version of Python.\n",
      "  'label': torch.tensor(self.labels[idx], dtype=torch.long)}\n"
     ]
    },
    {
     "name": "stdout",
     "output_type": "stream",
     "text": [
      "\n",
      "train loss: 0.0076, train acc: 99.9856\n"
     ]
    },
    {
     "name": "stderr",
     "output_type": "stream",
     "text": [
      "C:\\Users\\addmin\\AppData\\Local\\Temp\\ipykernel_21224\\3543638301.py:15: DeprecationWarning: an integer is required (got type numpy.float64).  Implicit conversion to integers using __int__ is deprecated, and may be removed in a future version of Python.\n",
      "  'label': torch.tensor(self.labels[idx], dtype=torch.long)}\n"
     ]
    },
    {
     "name": "stdout",
     "output_type": "stream",
     "text": [
      "\n",
      "train loss: 0.0076, train acc: 99.9055\n"
     ]
    },
    {
     "name": "stderr",
     "output_type": "stream",
     "text": [
      "C:\\Users\\addmin\\AppData\\Local\\Temp\\ipykernel_21224\\3543638301.py:15: DeprecationWarning: an integer is required (got type numpy.float64).  Implicit conversion to integers using __int__ is deprecated, and may be removed in a future version of Python.\n",
      "  'label': torch.tensor(self.labels[idx], dtype=torch.long)}\n"
     ]
    },
    {
     "name": "stdout",
     "output_type": "stream",
     "text": [
      "\n",
      "train loss: 0.0075, train acc: 99.9633\n"
     ]
    },
    {
     "name": "stderr",
     "output_type": "stream",
     "text": [
      "C:\\Users\\addmin\\AppData\\Local\\Temp\\ipykernel_21224\\3543638301.py:15: DeprecationWarning: an integer is required (got type numpy.float64).  Implicit conversion to integers using __int__ is deprecated, and may be removed in a future version of Python.\n",
      "  'label': torch.tensor(self.labels[idx], dtype=torch.long)}\n"
     ]
    },
    {
     "name": "stdout",
     "output_type": "stream",
     "text": [
      "\n",
      "train loss: 0.0074, train acc: 99.9911\n"
     ]
    },
    {
     "name": "stderr",
     "output_type": "stream",
     "text": [
      "C:\\Users\\addmin\\AppData\\Local\\Temp\\ipykernel_21224\\3543638301.py:15: DeprecationWarning: an integer is required (got type numpy.float64).  Implicit conversion to integers using __int__ is deprecated, and may be removed in a future version of Python.\n",
      "  'label': torch.tensor(self.labels[idx], dtype=torch.long)}\n"
     ]
    },
    {
     "name": "stdout",
     "output_type": "stream",
     "text": [
      "\n",
      "train loss: 0.0074, train acc: 99.9400\n"
     ]
    },
    {
     "name": "stderr",
     "output_type": "stream",
     "text": [
      "C:\\Users\\addmin\\AppData\\Local\\Temp\\ipykernel_21224\\3543638301.py:15: DeprecationWarning: an integer is required (got type numpy.float64).  Implicit conversion to integers using __int__ is deprecated, and may be removed in a future version of Python.\n",
      "  'label': torch.tensor(self.labels[idx], dtype=torch.long)}\n"
     ]
    },
    {
     "name": "stdout",
     "output_type": "stream",
     "text": [
      "\n",
      "train loss: 0.0073, train acc: 99.9667\n"
     ]
    },
    {
     "name": "stderr",
     "output_type": "stream",
     "text": [
      "C:\\Users\\addmin\\AppData\\Local\\Temp\\ipykernel_21224\\3543638301.py:15: DeprecationWarning: an integer is required (got type numpy.float64).  Implicit conversion to integers using __int__ is deprecated, and may be removed in a future version of Python.\n",
      "  'label': torch.tensor(self.labels[idx], dtype=torch.long)}\n"
     ]
    },
    {
     "name": "stdout",
     "output_type": "stream",
     "text": [
      "\n",
      "train loss: 0.0073, train acc: 99.9078\n"
     ]
    },
    {
     "name": "stderr",
     "output_type": "stream",
     "text": [
      "C:\\Users\\addmin\\AppData\\Local\\Temp\\ipykernel_21224\\3543638301.py:15: DeprecationWarning: an integer is required (got type numpy.float64).  Implicit conversion to integers using __int__ is deprecated, and may be removed in a future version of Python.\n",
      "  'label': torch.tensor(self.labels[idx], dtype=torch.long)}\n"
     ]
    },
    {
     "name": "stdout",
     "output_type": "stream",
     "text": [
      "\n",
      "train loss: 0.0072, train acc: 99.9778\n"
     ]
    },
    {
     "name": "stderr",
     "output_type": "stream",
     "text": [
      "C:\\Users\\addmin\\AppData\\Local\\Temp\\ipykernel_21224\\3543638301.py:15: DeprecationWarning: an integer is required (got type numpy.float64).  Implicit conversion to integers using __int__ is deprecated, and may be removed in a future version of Python.\n",
      "  'label': torch.tensor(self.labels[idx], dtype=torch.long)}\n"
     ]
    },
    {
     "name": "stdout",
     "output_type": "stream",
     "text": [
      "\n",
      "train loss: 0.0072, train acc: 99.9533\n"
     ]
    },
    {
     "name": "stderr",
     "output_type": "stream",
     "text": [
      "C:\\Users\\addmin\\AppData\\Local\\Temp\\ipykernel_21224\\3543638301.py:15: DeprecationWarning: an integer is required (got type numpy.float64).  Implicit conversion to integers using __int__ is deprecated, and may be removed in a future version of Python.\n",
      "  'label': torch.tensor(self.labels[idx], dtype=torch.long)}\n"
     ]
    },
    {
     "name": "stdout",
     "output_type": "stream",
     "text": [
      "\n",
      "train loss: 0.0071, train acc: 99.9711\n"
     ]
    },
    {
     "name": "stderr",
     "output_type": "stream",
     "text": [
      "C:\\Users\\addmin\\AppData\\Local\\Temp\\ipykernel_21224\\3543638301.py:15: DeprecationWarning: an integer is required (got type numpy.float64).  Implicit conversion to integers using __int__ is deprecated, and may be removed in a future version of Python.\n",
      "  'label': torch.tensor(self.labels[idx], dtype=torch.long)}\n"
     ]
    },
    {
     "name": "stdout",
     "output_type": "stream",
     "text": [
      "\n",
      "train loss: 0.0070, train acc: 99.9455\n"
     ]
    },
    {
     "name": "stderr",
     "output_type": "stream",
     "text": [
      "C:\\Users\\addmin\\AppData\\Local\\Temp\\ipykernel_21224\\3543638301.py:15: DeprecationWarning: an integer is required (got type numpy.float64).  Implicit conversion to integers using __int__ is deprecated, and may be removed in a future version of Python.\n",
      "  'label': torch.tensor(self.labels[idx], dtype=torch.long)}\n"
     ]
    },
    {
     "name": "stdout",
     "output_type": "stream",
     "text": [
      "\n",
      "train loss: 0.0070, train acc: 99.9555\n"
     ]
    },
    {
     "name": "stderr",
     "output_type": "stream",
     "text": [
      "C:\\Users\\addmin\\AppData\\Local\\Temp\\ipykernel_21224\\3543638301.py:15: DeprecationWarning: an integer is required (got type numpy.float64).  Implicit conversion to integers using __int__ is deprecated, and may be removed in a future version of Python.\n",
      "  'label': torch.tensor(self.labels[idx], dtype=torch.long)}\n"
     ]
    },
    {
     "name": "stdout",
     "output_type": "stream",
     "text": [
      "\n",
      "train loss: 0.0069, train acc: 99.9578\n"
     ]
    },
    {
     "name": "stderr",
     "output_type": "stream",
     "text": [
      "C:\\Users\\addmin\\AppData\\Local\\Temp\\ipykernel_21224\\3543638301.py:15: DeprecationWarning: an integer is required (got type numpy.float64).  Implicit conversion to integers using __int__ is deprecated, and may be removed in a future version of Python.\n",
      "  'label': torch.tensor(self.labels[idx], dtype=torch.long)}\n"
     ]
    },
    {
     "name": "stdout",
     "output_type": "stream",
     "text": [
      "\n",
      "train loss: 0.0069, train acc: 99.9689\n"
     ]
    },
    {
     "name": "stderr",
     "output_type": "stream",
     "text": [
      "C:\\Users\\addmin\\AppData\\Local\\Temp\\ipykernel_21224\\3543638301.py:15: DeprecationWarning: an integer is required (got type numpy.float64).  Implicit conversion to integers using __int__ is deprecated, and may be removed in a future version of Python.\n",
      "  'label': torch.tensor(self.labels[idx], dtype=torch.long)}\n"
     ]
    },
    {
     "name": "stdout",
     "output_type": "stream",
     "text": [
      "\n",
      "train loss: 0.0068, train acc: 99.9411\n"
     ]
    }
   ],
   "source": [
    "import os \n",
    "model = model_18\n",
    "\n",
    "# resnet18\n",
    "criterion = nn.CrossEntropyLoss()\n",
    "optimizer = optim.Adam(model_18.parameters(), lr=2e-4)\n",
    "\n",
    "## train 및 valid\n",
    "os.makedirs('./result', exist_ok=True)\n",
    "from sklearn.metrics import f1_score, classification_report\n",
    "import numpy as np\n",
    "from tqdm.notebook import trange\n",
    "valid_loss_min = np.Inf\n",
    "val_loss = []\n",
    "val_acc = []\n",
    "train_loss = []\n",
    "train_acc = []\n",
    "total_step = len(train_loader_pca)\n",
    "valid_loss = np.Inf  # train acc\n",
    "f1_ = 0  # val f1\n",
    "epoch_in = trange(100, desc='training')\n",
    "best_acc=0\n",
    "\n",
    "\n",
    "\n",
    "for epoch in epoch_in:\n",
    "    model.to(device)\n",
    "    model.train()\n",
    "    running_loss = 0.0\n",
    "    correct = 0\n",
    "    total=0\n",
    "    \n",
    "    preds_ = []\n",
    "    targets_ = []\n",
    "\n",
    "    for batch_idx, train_dict in enumerate(train_loader_pca):\n",
    "\n",
    "        inputs = train_dict['data'].to(device).float()\n",
    "        inputs = inputs.reshape(64,1,1,12)\n",
    "        labels = train_dict['label'].to(device).long()\n",
    "\n",
    "        optimizer.zero_grad()\n",
    "\n",
    "        outputs = model(inputs)\n",
    "        loss = criterion(outputs, labels)\n",
    "        loss.backward()\n",
    "        optimizer.step()\n",
    "        \n",
    "        running_loss += loss.item()\n",
    "        _,pred = torch.max(outputs, dim=1)\n",
    "        correct += torch.sum(pred==labels).item()\n",
    "        total += labels.size(0)\n",
    "        # if (batch_idx) % 1000 == 0:\n",
    "        #     print ('Epoch [{}/{}], Step [{}/{}], Loss: {:.4f}' \n",
    "        #            .format(epoch, n_epochs, batch_idx, total_step, loss.item()))\n",
    "\n",
    "    train_acc.append(100 * correct / total)\n",
    "    train_loss.append(running_loss/total_step)\n",
    "    print(f'\\ntrain loss: {np.mean(train_loss):.4f}, train acc: {(100 * correct / total):.4f}')\n",
    "\n",
    "    \n",
    "    batch_loss = 0\n",
    "    total_t=0\n",
    "    correct_t=0    \n",
    "    \n",
    "    with torch.no_grad():\n",
    "        model.to(device)\n",
    "        model.eval()\n",
    "        for test_dict in (test_loader_pca):\n",
    "            data_t = test_dict['data'].to(device).float()\n",
    "            data_t = data_t.reshape(64,1,1,12)\n",
    "            #print(data_t)\n",
    "            \n",
    "            target_t =  test_dict['label'].to(device).long()\n",
    "            #print(target_t)\n",
    "            \n",
    "            outputs_t = model(data_t)\n",
    "            \n",
    "            ####################### f1 score ################################\n",
    "            pred = outputs_t.argmax(dim=1).to(device)\n",
    "            target = target_t.view_as(pred).to(device)\n",
    "\n",
    "            preds_.append(pred)\n",
    "            targets_.append(target)\n",
    "            \n",
    "            # f1_score += f1(pred, target)\n",
    "            ##################################################################\n",
    "            \n",
    "            \n",
    "            \n",
    "            loss_t = criterion(outputs_t, target_t)\n",
    "            batch_loss += loss_t.item()\n",
    "            _,pred_t = torch.max(outputs_t, dim=1)\n",
    "            correct_t += torch.sum(pred_t==target_t).item()\n",
    "            total_t += target_t.size(0)\n",
    "\n",
    "        #print(total_t)\n",
    "\n",
    "        val_acc.append(100 * correct_t / total_t)\n",
    "        val_loss.append(batch_loss/len(test_loader_pca))\n",
    "        network_learned = batch_loss < valid_loss_min\n",
    "\n",
    "        preds_ = torch.cat(preds_).detach().cpu().numpy()\n",
    "        targets_ = torch.cat(targets_).detach().cpu().numpy()\n",
    "\n",
    "        f1score = f1_score(targets_,preds_,  average='macro')\n",
    "        if best_acc < f1score:\n",
    "            best_acc = f1score\n",
    "            with open(\"./result/iot20d_pca+mfcc_res18_0123.txt\", \"a\") as text_file:\n",
    "                print('epoch=====',epoch, file=text_file)\n",
    "                print(classification_report(targets_, preds_, digits=4), file=text_file)\n",
    "            torch.save(model, f'./result/iot20d_pca+mfcc_res18_attention.pt') \n",
    "        epoch_in.set_postfix_str(f\"epoch = {epoch},  f1_score = {f1score}, best_f1 = {best_acc}\")"
   ]
  },
  {
   "cell_type": "code",
   "execution_count": null,
   "metadata": {},
   "outputs": [],
   "source": []
  },
  {
   "cell_type": "code",
   "execution_count": null,
   "metadata": {},
   "outputs": [],
   "source": []
  },
  {
   "cell_type": "code",
   "execution_count": null,
   "metadata": {},
   "outputs": [],
   "source": []
  },
  {
   "cell_type": "code",
   "execution_count": null,
   "metadata": {},
   "outputs": [],
   "source": []
  },
  {
   "cell_type": "code",
   "execution_count": null,
   "metadata": {},
   "outputs": [],
   "source": []
  },
  {
   "cell_type": "code",
   "execution_count": null,
   "metadata": {},
   "outputs": [],
   "source": []
  },
  {
   "cell_type": "code",
   "execution_count": null,
   "metadata": {},
   "outputs": [],
   "source": []
  },
  {
   "attachments": {},
   "cell_type": "markdown",
   "metadata": {},
   "source": [
    "# Mel spectrogram 이미지 생성 "
   ]
  },
  {
   "attachments": {},
   "cell_type": "markdown",
   "metadata": {},
   "source": [
    "# Test dataset"
   ]
  },
  {
   "cell_type": "code",
   "execution_count": 11,
   "metadata": {},
   "outputs": [],
   "source": [
    "import os\n",
    "\n",
    "# 이미지 저장 디렉토리 생성\n",
    "output_directory_n = './melspec/test/normal'\n",
    "os.makedirs(output_directory_n, exist_ok=True)\n",
    "\n",
    "output_directory_1= './melspec/test/label1'\n",
    "os.makedirs(output_directory_1, exist_ok=True)\n",
    "\n",
    "output_directory_2= './melspec/test/label2'\n",
    "os.makedirs(output_directory_2, exist_ok=True)\n",
    "\n",
    "output_directory_3= './melspec/test/label3'\n",
    "os.makedirs(output_directory_3, exist_ok=True)\n",
    "\n",
    "output_directory_4= './melspec/test/label4'\n",
    "os.makedirs(output_directory_4, exist_ok=True)\n",
    "\n",
    "output_directory_5= './melspec/test/label5'\n",
    "os.makedirs(output_directory_5, exist_ok=True)\n",
    "\n",
    "output_directory_6= './melspec/test/label6'\n",
    "os.makedirs(output_directory_6, exist_ok=True)\n",
    "\n",
    "output_directory_7= './melspec/test/label7'\n",
    "os.makedirs(output_directory_7, exist_ok=True)\n",
    "\n",
    "output_directory_8= './melspec/test/label8'\n",
    "os.makedirs(output_directory_8, exist_ok=True)"
   ]
  },
  {
   "cell_type": "code",
   "execution_count": 13,
   "metadata": {},
   "outputs": [],
   "source": [
    "import os\n",
    "\n",
    "# 이미지 저장 디렉토리 생성\n",
    "output_directory_n = './melspec/train/normal'\n",
    "#os.makedirs(output_directory_n, exist_ok=True)\n",
    "\n",
    "output_directory_1= './melspec/train/label1'\n",
    "#os.makedirs(output_directory_1, exist_ok=True)\n",
    "\n",
    "output_directory_2= './melspec/train/label2'\n",
    "#os.makedirs(output_directory_2, exist_ok=True)\n",
    "\n",
    "output_directory_3= './melspec/train/label3'\n",
    "#os.makedirs(output_directory_3, exist_ok=True)\n",
    "\n",
    "output_directory_4= './melspec/train/label4'\n",
    "#os.makedirs(output_directory_4, exist_ok=True)\n",
    "\n",
    "output_directory_5= './melspec/train/label5'\n",
    "#os.makedirs(output_directory_5, exist_ok=True)\n",
    "\n",
    "output_directory_6= './melspec/train/label6'\n",
    "#os.makedirs(output_directory_6, exist_ok=True)\n",
    "\n",
    "output_directory_7= './melspec/train/label7'\n",
    "#os.makedirs(output_directory_7, exist_ok=True)\n",
    "\n",
    "output_directory_8= './melspec/train/label8'\n",
    "#os.makedirs(output_directory_8, exist_ok=True)"
   ]
  },
  {
   "cell_type": "code",
   "execution_count": 14,
   "metadata": {},
   "outputs": [],
   "source": [
    "import pandas as pd \n",
    "\n",
    "train_df = pd.read_csv('./iotid20_train_pca+mfcc.csv')"
   ]
  },
  {
   "cell_type": "code",
   "execution_count": 15,
   "metadata": {},
   "outputs": [],
   "source": [
    "zero_label_rows = train_df[train_df['label'] == 0] # 정상데이터 \n",
    "one_label_rows = train_df[train_df['label'] == 1] # 비정상 데이터 \n",
    "two_label_rows = train_df[train_df['label'] == 2] # 비정상 데이터 \n",
    "three_label_rows = train_df[train_df['label'] == 3] # 비정상 데이터 \n",
    "four_label_rows = train_df[train_df['label'] == 4] # 비정상 데이터 \n",
    "five_label_rows = train_df[train_df['label'] == 5] # 비정상 데이터 \n",
    "six_label_rows = train_df[train_df['label'] == 6] # 비정상 데이터 \n",
    "sev_label_rows = train_df[train_df['label'] == 7] # 비정상 데이터 \n",
    "eig_label_rows = train_df[train_df['label'] == 8] # 비정상 데이터 "
   ]
  },
  {
   "cell_type": "code",
   "execution_count": 17,
   "metadata": {},
   "outputs": [],
   "source": [
    "train__sample_val_normal = zero_label_rows.iloc[:,:-1].values\n",
    "test_1 = one_label_rows.iloc[:,:-1].values\n",
    "test_2 = two_label_rows.iloc[:,:-1].values\n",
    "test_3 = three_label_rows.iloc[:,:-1].values\n",
    "test_4 = four_label_rows.iloc[:,:-1].values\n",
    "test_5 = five_label_rows.iloc[:,:-1].values\n",
    "test_6 = six_label_rows.iloc[:,:-1].values\n",
    "test_7 = sev_label_rows.iloc[:,:-1].values\n",
    "test_8 = eig_label_rows.iloc[:,:-1].values"
   ]
  },
  {
   "cell_type": "code",
   "execution_count": 12,
   "metadata": {},
   "outputs": [
    {
     "name": "stderr",
     "output_type": "stream",
     "text": [
      "  0%|          | 0/1000 [00:00<?, ?it/s]c:\\Users\\user\\anaconda3\\envs\\mintorch1221\\lib\\site-packages\\librosa\\core\\spectrum.py:257: UserWarning: n_fft=1024 is too large for input signal of length=12\n",
      "  warnings.warn(\n",
      "100%|██████████| 1000/1000 [00:57<00:00, 17.34it/s]\n",
      "100%|██████████| 1000/1000 [00:56<00:00, 17.70it/s]\n",
      "100%|██████████| 1000/1000 [01:04<00:00, 15.62it/s]\n",
      "100%|██████████| 1000/1000 [01:06<00:00, 14.95it/s]\n",
      "100%|██████████| 1000/1000 [01:10<00:00, 14.23it/s]\n",
      "100%|██████████| 1000/1000 [01:14<00:00, 13.41it/s]\n",
      "100%|██████████| 1000/1000 [01:20<00:00, 12.49it/s]\n",
      "100%|██████████| 1000/1000 [01:22<00:00, 12.14it/s]\n",
      "100%|██████████| 1000/1000 [01:34<00:00, 10.59it/s]\n"
     ]
    }
   ],
   "source": [
    "import librosa \n",
    "import librosa.display \n",
    "import matplotlib.pyplot as plt \n",
    "import tqdm \n",
    "import os\n",
    "import numpy as np\n",
    "\n",
    "SAMPLE_RATE = 1365 \n",
    "DURATION = 0.75 \n",
    "win_length = int(1365/40)\n",
    "n_fft = 1024\n",
    "hop_length = 4 \n",
    "n_mels = 40\n",
    "\n",
    "def run (df, path):\n",
    "    for i in tqdm.tqdm(range(df.shape[0])):\n",
    "        data = df[i:i+1, :].reshape(-1)\n",
    "        S = librosa.feature.melspectrogram(y=data, n_mels=n_mels, n_fft=n_fft, hop_length=hop_length)\n",
    "        mel_spec_db = librosa.power_to_db(S, ref=np.max)\n",
    "\n",
    "        # 플롯 생성\n",
    "        plt.figure(figsize=(10, 4))  # 이미지 크기 조절\n",
    "        librosa.display.specshow(mel_spec_db, x_axis='time', y_axis='mel',\\\n",
    "            sr=SAMPLE_RATE, hop_length=hop_length, cmap='viridis')\n",
    "\n",
    "        # 눈금 및 레이블 제거\n",
    "        plt.axis('off')\n",
    "\n",
    "        # 이미지 저장\n",
    "        plt.savefig(f'{path}/image_{i}.png', bbox_inches='tight', pad_inches=0)\n",
    "\n",
    "        # 플롯 닫기 (메모리 누수 방지)\n",
    "        plt.close()\n",
    "\n",
    "run(train__sample_val_normal, output_directory_n)\n",
    "run(test_1, output_directory_1)\n",
    "run(test_2, output_directory_2)\n",
    "run(test_3, output_directory_3)\n",
    "run(test_4, output_directory_4)\n",
    "run(test_5, output_directory_5)\n",
    "run(test_6, output_directory_6)\n",
    "run(test_7, output_directory_7)\n",
    "run(test_8, output_directory_8)"
   ]
  },
  {
   "cell_type": "code",
   "execution_count": null,
   "metadata": {},
   "outputs": [],
   "source": []
  }
 ],
 "metadata": {
  "kernelspec": {
   "display_name": "Python 3 (ipykernel)",
   "language": "python",
   "name": "python3"
  },
  "language_info": {
   "codemirror_mode": {
    "name": "ipython",
    "version": 3
   },
   "file_extension": ".py",
   "mimetype": "text/x-python",
   "name": "python",
   "nbconvert_exporter": "python",
   "pygments_lexer": "ipython3",
   "version": "3.8.19"
  }
 },
 "nbformat": 4,
 "nbformat_minor": 4
}
