{
 "cells": [
  {
   "cell_type": "code",
   "execution_count": 1,
   "id": "d1867674",
   "metadata": {},
   "outputs": [
    {
     "name": "stderr",
     "output_type": "stream",
     "text": [
      "c:\\Users\\user\\anaconda3\\envs\\minmin\\lib\\site-packages\\tqdm\\auto.py:21: TqdmWarning: IProgress not found. Please update jupyter and ipywidgets. See https://ipywidgets.readthedocs.io/en/stable/user_install.html\n",
      "  from .autonotebook import tqdm as notebook_tqdm\n"
     ]
    }
   ],
   "source": [
    "import numpy as np\n",
    "import os\n",
    "import sys\n",
    "import pandas as pd\n",
    "import random\n",
    "import yaml\n",
    "import numpy as np\n",
    "import random\n",
    "import torch\n",
    "import os\n",
    "import warnings\n",
    "warnings.filterwarnings('ignore')\n",
    "\n",
    "\n",
    "def seed_everything(seed: int = 42):\n",
    "    random.seed(seed)\n",
    "    np.random.seed(seed)\n",
    "    os.environ[\"PYTHONHASHSEED\"] = str(seed)\n",
    "    torch.manual_seed(seed)\n",
    "    torch.cuda.manual_seed(seed)  # type: ignore\n",
    "    torch.backends.cudnn.deterministic = True  # type: ignore\n",
    "    torch.backends.cudnn.benchmark = True  # type: ignore\n",
    "\n",
    "seed_everything(777)"
   ]
  },
  {
   "cell_type": "code",
   "execution_count": null,
   "id": "3eb30f55",
   "metadata": {},
   "outputs": [],
   "source": [
    "!pip install pandas==0.25.3"
   ]
  },
  {
   "cell_type": "code",
   "execution_count": 6,
   "id": "08a6e027",
   "metadata": {},
   "outputs": [],
   "source": [
    "bin_data = pd.read_csv(r'E:\\Datasets\\Network_intrusion/IoT_original.csv')\n",
    "bin_data_select = bin_data.drop(['Flow_ID','Src_IP','Label','Cat','Dst_IP'], axis=1)\n",
    "bin_data_1 = bin_data_select.copy()"
   ]
  },
  {
   "cell_type": "code",
   "execution_count": 7,
   "id": "7f1d0aee",
   "metadata": {},
   "outputs": [
    {
     "name": "stdout",
     "output_type": "stream",
     "text": [
      "[2 0 8 ... 8 6 5]\n",
      "['DoS-Synflooding' 'MITM ARP Spoofing' 'Mirai-Ackflooding'\n",
      " 'Mirai-HTTP Flooding' 'Mirai-Hostbruteforceg' 'Mirai-UDP Flooding'\n",
      " 'Normal' 'Scan Hostport' 'Scan Port OS']\n"
     ]
    }
   ],
   "source": [
    "# labeling 처리\n",
    "\n",
    "from sklearn.preprocessing import LabelEncoder\n",
    "le = LabelEncoder()\n",
    "result = le.fit_transform(bin_data_1['Sub_Cat'])\n",
    "print(result)\n",
    "print(le.classes_)\n",
    "\n",
    "bin_data_1['label'] = result\n",
    "\n",
    "bin_data_1 = bin_data_1.drop(['Sub_Cat'], axis=1)\n"
   ]
  },
  {
   "cell_type": "code",
   "execution_count": 8,
   "id": "593b0e5c",
   "metadata": {},
   "outputs": [],
   "source": [
    "## 전처리 진행\n",
    "# 1) inf 값, na 값 제외\n",
    "bin_data_2 = bin_data_1.replace(np.inf, np.nan)\n",
    "bin_data_2 = bin_data_2.replace(-np.inf, np.nan)\n",
    "\n",
    "bin_data_2 = bin_data_2.dropna()"
   ]
  },
  {
   "cell_type": "code",
   "execution_count": 9,
   "id": "c10b98fe",
   "metadata": {},
   "outputs": [
    {
     "name": "stdout",
     "output_type": "stream",
     "text": [
      "39\n"
     ]
    }
   ],
   "source": [
    "# 0의 비중이 절반 이상인 컬럼 제외\n",
    "z_df=pd.DataFrame((bin_data_2==0).sum() / bin_data_2.shape[0]).sort_values([0], ascending=False)\n",
    "drop_list_zero=list(z_df.index[z_df[0]>0.5])\n",
    "print(len(drop_list_zero))\n",
    "bin_data_2.drop(columns=drop_list_zero, inplace=True)"
   ]
  },
  {
   "cell_type": "code",
   "execution_count": 6,
   "id": "382eb9fc",
   "metadata": {},
   "outputs": [],
   "source": [
    "df_full_data=bin_data_2.describe()"
   ]
  },
  {
   "cell_type": "code",
   "execution_count": 10,
   "id": "0d93463b",
   "metadata": {},
   "outputs": [
    {
     "data": {
      "text/plain": [
       "Index(['Init_Fwd_Win_Byts'], dtype='object')"
      ]
     },
     "execution_count": 10,
     "metadata": {},
     "output_type": "execute_result"
    }
   ],
   "source": [
    "df_full_data=bin_data_2.describe()\n",
    "df_full_data.columns[df_full_data.loc['std']==0]"
   ]
  },
  {
   "cell_type": "code",
   "execution_count": 11,
   "id": "13bae1f4",
   "metadata": {},
   "outputs": [],
   "source": [
    "## std 0인 컬럼 제거\n",
    "bin_data_2 = bin_data_2.drop(['Init_Fwd_Win_Byts'],axis=1)"
   ]
  },
  {
   "cell_type": "code",
   "execution_count": 12,
   "id": "42a7ed3a",
   "metadata": {},
   "outputs": [],
   "source": [
    "# time index 설정 \n",
    "# minmax scaling 후 time index feature 추가\n",
    "netwokrtime=pd.to_datetime(bin_data_2['Timestamp'])\n",
    "\n",
    "bin_data_2=bin_data_2.set_index(netwokrtime).sort_index()\n",
    "bin_data_2=bin_data_2.drop(['Timestamp'], axis=1)"
   ]
  },
  {
   "cell_type": "code",
   "execution_count": 13,
   "id": "62095161",
   "metadata": {},
   "outputs": [],
   "source": [
    "## minmax scaler 적용\n",
    "from sklearn.preprocessing import StandardScaler, MinMaxScaler\n",
    "sc_minmax = MinMaxScaler()\n",
    "bin_data_2_sc=sc_minmax.fit_transform(bin_data_2.iloc[:,:-1])"
   ]
  },
  {
   "cell_type": "code",
   "execution_count": 14,
   "id": "bf79fa9f",
   "metadata": {},
   "outputs": [],
   "source": [
    "## df 로 변환\n",
    "bin_data_2_sc_df = pd.DataFrame(bin_data_2_sc, columns= bin_data_2.columns[:-1])\n",
    "bin_data_2_sc_df.index = bin_data_2.index\n",
    "bin_data_2_sc_df['label'] = bin_data_2['label']"
   ]
  },
  {
   "cell_type": "code",
   "execution_count": 31,
   "id": "a01606db",
   "metadata": {},
   "outputs": [],
   "source": [
    "import numpy as np\n",
    "import holidays\n",
    "import warnings\n",
    "warnings.filterwarnings('ignore')\n",
    "# holiday 생성 함수 \n",
    "# holiday 인 경우 1 그렇지 않으면 0 \n",
    "import sys\n",
    "\n",
    "# 위 함수를 사용하여 holiday column 추가\n",
    "\n",
    "def generate_cyclical_features(df, col_name, period, start_num=0):\n",
    "    kwargs = {\n",
    "        f'sin_{col_name}' : lambda x: np.sin(2*np.pi*(df[col_name]-start_num)/period),\n",
    "        f'cos_{col_name}' : lambda x: np.cos(2*np.pi*(df[col_name]-start_num)/period)    \n",
    "             }\n",
    "    return df.assign(**kwargs).drop(columns=[col_name])\n",
    "\n",
    "input_df = bin_data_2_sc_df.copy()\n",
    "## indes 값이 날짜로만 구성되어 있는지 확인\n",
    "# 날짜로만 구성되어 있다면 아래와 같이 진행\n",
    "if all(isinstance(x, pd.Timestamp) for x in input_df.index):\n",
    "\n",
    "    # 원본 데이터를 포함한, time index의 feautre 추가\n",
    "    df_features = (\n",
    "            input_df\n",
    "            .assign(hour = input_df.index.hour) # 0~23\n",
    "            .assign(day = input_df.index.day) # 1~31\n",
    "            .assign(month = input_df.index.month) # 3 ~ 4\n",
    "            .assign(day_of_week = input_df.index.dayofweek) # 0 ~6\n",
    "            .assign(week_of_year = input_df.index.isocalendar().week) # 10 ~ 18 # Extract week from isocalendar()\n",
    "            .assign(second = input_df.index.second)\n",
    "            # .assign(is_weekend = main_df_11.index.weekday)\n",
    "          )\n",
    "    # 기존 평일, 주말 데이터 변환\n",
    "    df_features['is_week']=np.where((df_features['day_of_week']==5)|(df_features['day_of_week']==6),1,0)\n",
    "\n",
    "    '''\n",
    "    시간의 주기성을 이용하여, fourier 변환 방식 적용\n",
    "    '''\n",
    "    df_features = generate_cyclical_features(df_features, 'hour', \n",
    "                df_features['hour'].unique().shape[0], df_features['hour'].unique().min())\n",
    "\n",
    "    df_features = generate_cyclical_features(df_features, 'day', \n",
    "                df_features['day'].unique().shape[0], df_features['day'].unique().min())\n",
    "\n",
    "    df_features = generate_cyclical_features(df_features, 'month', \n",
    "                df_features['month'].unique().shape[0], df_features['month'].unique().min())\n",
    "\n",
    "    df_features = generate_cyclical_features(df_features, 'day_of_week', \n",
    "                df_features['day_of_week'].unique().shape[0], df_features['day_of_week'].unique().min())\n",
    "\n",
    "    df_features = generate_cyclical_features(df_features, 'week_of_year', \n",
    "                df_features['week_of_year'].unique().shape[0], df_features['week_of_year'].unique().min())\n",
    "\n",
    "    df_features = generate_cyclical_features(df_features, 'second', \n",
    "                df_features['second'].unique().shape[0], df_features['second'].unique().min())\n",
    "\n",
    "    '''\n",
    "    holiday 생성을 위한 함수 적용\n",
    "    '''\n",
    "    us_holidays = holidays.KR()\n",
    "    def is_holiday(date):\n",
    "        \n",
    "        date = date.replace(hour = 0)\n",
    "        return 1 if (date in us_holidays) else 0\n",
    "\n",
    "    def add_holiday_col(df):\n",
    "        return df.assign(is_holiday = df.index.to_series().apply(is_holiday))\n",
    "\n",
    "    # holiday data 추가 후 is_week 와 병합\n",
    "    df_features = add_holiday_col(df_features)\n",
    "    df_features3  =df_features.reset_index()\n",
    "    df_features3['is_week'][df_features3[df_features3['is_holiday']==1].index]=1\n",
    "\n",
    "    # is_hoiday 제거\n",
    "    df_features_using = df_features3.drop(['is_holiday'], axis=1)"
   ]
  },
  {
   "cell_type": "code",
   "execution_count": null,
   "id": "064c6253",
   "metadata": {},
   "outputs": [],
   "source": []
  },
  {
   "attachments": {},
   "cell_type": "markdown",
   "id": "80c6eec8",
   "metadata": {},
   "source": [
    "### 불필요한 컬럼제거 및 라벨 컬럼 재배치 "
   ]
  },
  {
   "cell_type": "code",
   "execution_count": 32,
   "id": "12b05466",
   "metadata": {},
   "outputs": [],
   "source": [
    "del df_features_using['Timestamp']\n",
    "del df_features_using['label']\n",
    "\n",
    "bin_data_4 = bin_data_2.reset_index() # 새로운 인덱스를 적용 \n",
    "df_features_using['label'] = bin_data_4['label'] # 라벨 추가 "
   ]
  },
  {
   "attachments": {},
   "cell_type": "markdown",
   "id": "4aafadbd",
   "metadata": {},
   "source": [
    "### csv 저장 "
   ]
  },
  {
   "cell_type": "code",
   "execution_count": null,
   "id": "71470889",
   "metadata": {},
   "outputs": [],
   "source": [
    "df_features_using.to_csv('network전처리.csv')"
   ]
  },
  {
   "cell_type": "code",
   "execution_count": null,
   "id": "d36d1e5f",
   "metadata": {},
   "outputs": [],
   "source": []
  },
  {
   "cell_type": "code",
   "execution_count": null,
   "id": "22ac4cf2",
   "metadata": {},
   "outputs": [],
   "source": []
  }
 ],
 "metadata": {
  "kernelspec": {
   "display_name": "torch_jh_gpu",
   "language": "python",
   "name": "python3"
  },
  "language_info": {
   "codemirror_mode": {
    "name": "ipython",
    "version": 3
   },
   "file_extension": ".py",
   "mimetype": "text/x-python",
   "name": "python",
   "nbconvert_exporter": "python",
   "pygments_lexer": "ipython3",
   "version": "3.8.19"
  },
  "vscode": {
   "interpreter": {
    "hash": "765c4648f5c5c318a4e69c703b421ffe677cec59e33c71e3561a74859fe6b771"
   }
  }
 },
 "nbformat": 4,
 "nbformat_minor": 5
}
